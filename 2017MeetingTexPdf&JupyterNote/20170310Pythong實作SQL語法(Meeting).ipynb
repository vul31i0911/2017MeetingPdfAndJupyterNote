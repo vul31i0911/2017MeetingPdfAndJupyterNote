{
 "cells": [
  {
   "cell_type": "markdown",
   "metadata": {},
   "source": [
    "<h1>SQL</h1>"
   ]
  },
  {
   "cell_type": "markdown",
   "metadata": {},
   "source": [
    "基本語法\n",
    "http://www.1keydata.com/tw/sql/sqlselect.html"
   ]
  },
  {
   "cell_type": "code",
   "execution_count": 2,
   "metadata": {
    "collapsed": true
   },
   "outputs": [],
   "source": [
    "import math, random, re\n",
    "from collections import defaultdict"
   ]
  },
  {
   "cell_type": "code",
   "execution_count": null,
   "metadata": {
    "collapsed": true
   },
   "outputs": [],
   "source": []
  },
  {
   "cell_type": "code",
   "execution_count": 3,
   "metadata": {
    "collapsed": false
   },
   "outputs": [],
   "source": [
    "class Table:\n",
    "    def __init__(self, columns):  #初始設定欄位名稱    #self 可使用.\n",
    "        self.columns = columns   #放入ROW的資料會變成COLUMN名稱\n",
    "        self.rows = []           #ROW只能放入list\n",
    "\n",
    "    def __repr__(self):\n",
    "        \"\"\"pretty representation of the table: columns then rows\"\"\"\n",
    "        return str(self.columns)+ \"\\n\" + \"\\n\" .join(map(str, self.rows))    #把每個ROW  用COLUM做分割\n",
    "    #.join用法示例 \n",
    "    #li = ['my','name','is','bob'] \n",
    "    #' '.join(li) \n",
    "    #'my name is bob'\n",
    "    \n",
    "    \n",
    "\n",
    "    def insert(self, row_values):\n",
    "        if len(row_values) != len(self.columns):\n",
    "            raise TypeError(\"wrong number of elements\")   #插入陣列的長度 若不等於原先長度  會回傳錯誤\n",
    "        row_dict = dict(zip(self.columns, row_values))  #dict會返回{}形式  (轉換成字典)\n",
    "        self.rows.append(row_dict)   #將新值 回傳至初始之空欄位\n",
    "        \n",
    "         #################################################################################       \n",
    "\n",
    "    def update(self, updates, predicate):\n",
    "           for row in self.rows:\n",
    "            if predicate(row):    #创建一个迭代器，只要函数predicate(item)为True，就將更新的元素放入陣列\n",
    "                                    \n",
    "                for column, new_value in updates.items():\n",
    "                    row[column] = new_value\n",
    "\n",
    "    def delete(self, predicate=lambda row: True):\n",
    "        \"\"\"delete all rows matching predicate\n",
    "        or all rows if no predicate supplied\"\"\"\n",
    "        self.rows = [row for row in self.rows if not(predicate(row))]\n",
    "        \n",
    "        #####################################################################################\n",
    "\n",
    "    def select(self, keep_columns=None, additional_columns=None):            #keep_colum為選擇欄位   \n",
    "                                                                            #adtion_colums為函數條件  類似having\n",
    "\n",
    "        if keep_columns is None:         # if no columns specified,\n",
    "            keep_columns = self.columns  # return all columns\n",
    "\n",
    "        if additional_columns is None:\n",
    "            additional_columns = {}\n",
    "\n",
    "        # new table for results\n",
    "        result_table = Table(keep_columns + list(additional_columns.keys()))       #使用.KEY()  能抓取所有鍵 (前面那欄)\n",
    "                                                                                   #使用.value()  回傳所有值\n",
    "            \n",
    "        for row in self.rows:\n",
    "            new_row = [row[column] for column in keep_columns]    \n",
    "            for column_name, calculation in additional_columns.items():    #將附加條件的 鑑名   和值  放入table回傳\n",
    "                new_row.append(calculation(row))\n",
    "            result_table.insert(new_row)\n",
    "\n",
    "        return result_table\n",
    "    \n",
    "    \n",
    "\n",
    "    def where(self, predicate=lambda row: True):     #針對欄位下條件\n",
    "        \"\"\"return only the rows that satisfy the supplied predicate\"\"\"    #給定lambda會自動蝶帶字典中符合條件的鑑和值\n",
    "        where_table = Table(self.columns)\n",
    "        where_table.rows = list(filter(predicate, self.rows))               #def is_odd(n):\n",
    "                                                                            #return n % 2 == 1\n",
    "                                                                            #filter(is_odd, [1, 2, 4, 5, 6, 9, 10, 15])\n",
    "                                                                            # 结果: [1, 5, 9, 15]\n",
    "        return where_table\n",
    "\n",
    "    def limit(self, num_rows=None):\n",
    "        \"\"\"return only the first num_rows rows\"\"\"\n",
    "        limit_table = Table(self.columns)\n",
    "        limit_table.rows = (self.rows[:num_rows]\n",
    "                            if num_rows is not None\n",
    "                            else self.rows)\n",
    "        return limit_table\n",
    "\n",
    "    \n",
    "    \n",
    "    ################################################################\n",
    "    \n",
    "    \n",
    "    \n",
    "    def group_by(self, group_by_columns, aggregates, having=None):      #having:加條件(針對函數)   #此處aggreates 是函數  having是函數條件\n",
    "\n",
    "        grouped_rows = defaultdict(list)     #創造一個字典  裡面都放list  list可將元素拆開  #>>> a_tuple = ('ready', 'fire', 'aim')\n",
    "                                                                                        #>>> list(a_tuple)\n",
    "                                                                                        #['ready', 'fire', 'aim']\n",
    "\n",
    "        # populate groups\n",
    "        for row in self.rows:\n",
    "            key = tuple(row[column] for column in group_by_columns)  #將元素  包成位元組\n",
    "                                                                        #此處轉換為tuple因為函數內的參數是以tuple傳遞\n",
    "            grouped_rows[key].append(row)   #append  加元素到尾部\n",
    "\n",
    "        result_table = Table(group_by_columns + list(aggregates.keys()))\n",
    "\n",
    "        for key, rows in grouped_rows.items():\n",
    "            if having is None or having(rows):   #此處之having為  函數中加入之搜尋條件\n",
    "                new_row = list(key)      #為了放入insert將key轉換成list\n",
    "                for aggregate_name, aggregate_fn in aggregates.items():\n",
    "                    new_row.append(aggregate_fn(rows))   #將附加條件 加入尾部\n",
    "                result_table.insert(new_row)\n",
    "\n",
    "        return result_table\n",
    "\n",
    "    def order_by(self, order):\n",
    "        new_table = self.select()       # make a copy\n",
    "        new_table.rows.sort(key=order)\n",
    "        return new_table\n",
    "\n",
    "    def join(self, other_table, left_join=False):\n",
    "\n",
    "        join_on_columns = [c for c in self.columns           # columns in\n",
    "                           if c in other_table.columns]      # both tables      #兩個表格都有的欄\n",
    "\n",
    "        additional_columns = [c for c in other_table.columns # columns only\n",
    "                              if c not in join_on_columns]   # in right table  #新欄位\n",
    "\n",
    "        # all columns from left table + additional_columns from right table\n",
    "        join_table = Table(self.columns + additional_columns)\n",
    "\n",
    "        for row in self.rows:\n",
    "            def is_join(other_row):\n",
    "                return all(other_row[c] == row[c] for c in join_on_columns)\n",
    "\n",
    "            other_rows = other_table.where(is_join).rows           #找出 兩邊都有的列\n",
    "\n",
    "            # each other row that matches this one produces a result row\n",
    "            for other_row in other_rows:\n",
    "                join_table.insert([row[c] for c in self.columns] +              #將原始的列  加入欲插入的列\n",
    "                                  [other_row[c] for c in additional_columns])\n",
    "\n",
    "            # if no rows match and it's a left join, output with Nones\n",
    "            if left_join and not other_rows:\n",
    "                join_table.insert([row[c] for c in self.columns] +           #新增欄位有空值的話   補上NONE\n",
    "                                  [None for c in additional_columns])\n",
    "\n",
    "        return join_table"
   ]
  },
  {
   "cell_type": "code",
   "execution_count": 4,
   "metadata": {
    "collapsed": false
   },
   "outputs": [
    {
     "name": "stdout",
     "output_type": "stream",
     "text": [
      "['user_id', 'name', 'num_friends']\n",
      "\n"
     ]
    }
   ],
   "source": [
    "if __name__ == \"__main__\":\n",
    "\n",
    "    users = Table([\"user_id\", \"name\", \"num_friends\"])\n",
    "    print(users)"
   ]
  },
  {
   "cell_type": "code",
   "execution_count": 5,
   "metadata": {
    "collapsed": false
   },
   "outputs": [
    {
     "name": "stdout",
     "output_type": "stream",
     "text": [
      "users table\n",
      "['user_id', 'name', 'num_friends']\n",
      "{'user_id': 0, 'name': 'Hero', 'num_friends': 0}\n",
      "{'user_id': 1, 'name': 'Dunn', 'num_friends': 2}\n",
      "{'user_id': 2, 'name': 'Sue', 'num_friends': 3}\n",
      "{'user_id': 3, 'name': 'Chi', 'num_friends': 3}\n",
      "{'user_id': 4, 'name': 'Thor', 'num_friends': 3}\n",
      "{'user_id': 5, 'name': 'Clive', 'num_friends': 2}\n",
      "{'user_id': 6, 'name': 'Hicks', 'num_friends': 3}\n",
      "{'user_id': 7, 'name': 'Devin', 'num_friends': 2}\n",
      "{'user_id': 8, 'name': 'Kate', 'num_friends': 2}\n",
      "{'user_id': 9, 'name': 'Klein', 'num_friends': 3}\n",
      "{'user_id': 10, 'name': 'Jen', 'num_friends': 1}\n",
      "\n"
     ]
    }
   ],
   "source": [
    "if __name__ == \"__main__\":\n",
    "\n",
    "    users = Table([\"user_id\", \"name\", \"num_friends\"])\n",
    "    users.insert([0, \"Hero\", 0])\n",
    "    users.insert([1, \"Dunn\", 2])\n",
    "    users.insert([2, \"Sue\", 3])\n",
    "    users.insert([3, \"Chi\", 3])\n",
    "    users.insert([4, \"Thor\", 3])\n",
    "    users.insert([5, \"Clive\", 2])\n",
    "    users.insert([6, \"Hicks\", 3])\n",
    "    users.insert([7, \"Devin\", 2])\n",
    "    users.insert([8, \"Kate\", 2])\n",
    "    users.insert([9, \"Klein\", 3])\n",
    "    users.insert([10, \"Jen\", 1])\n",
    "\n",
    "    print(\"users table\")\n",
    "    print(users)\n",
    "    print()"
   ]
  },
  {
   "cell_type": "markdown",
   "metadata": {},
   "source": [
    "# SELECT"
   ]
  },
  {
   "cell_type": "markdown",
   "metadata": {},
   "source": [
    "# SELECT * FROM users"
   ]
  },
  {
   "cell_type": "code",
   "execution_count": 8,
   "metadata": {
    "collapsed": false
   },
   "outputs": [
    {
     "name": "stdout",
     "output_type": "stream",
     "text": [
      "users.select()\n",
      "['user_id', 'name', 'num_friends']\n",
      "{'user_id': 0, 'num_friends': 0, 'name': 'Hero'}\n",
      "{'user_id': 1, 'num_friends': 2, 'name': 'Dunn'}\n",
      "{'user_id': 2, 'num_friends': 3, 'name': 'Sue'}\n",
      "{'user_id': 3, 'num_friends': 3, 'name': 'Chi'}\n",
      "{'user_id': 4, 'num_friends': 3, 'name': 'Thor'}\n",
      "{'user_id': 5, 'num_friends': 2, 'name': 'Clive'}\n",
      "{'user_id': 6, 'num_friends': 3, 'name': 'Hicks'}\n",
      "{'user_id': 7, 'num_friends': 2, 'name': 'Devin'}\n",
      "{'user_id': 8, 'num_friends': 2, 'name': 'Kate'}\n",
      "{'user_id': 9, 'num_friends': 3, 'name': 'Klein'}\n",
      "{'user_id': 10, 'num_friends': 1, 'name': 'Jen'}\n",
      "\n"
     ]
    }
   ],
   "source": [
    "print(\"users.select()\")\n",
    "print(users.select())\n",
    "print()\n",
    "\n",
    " #回傳的第一行   即為函數中的list值"
   ]
  },
  {
   "cell_type": "markdown",
   "metadata": {},
   "source": [
    "# SELECT * FROM users LIMIT 2"
   ]
  },
  {
   "cell_type": "code",
   "execution_count": 7,
   "metadata": {
    "collapsed": false
   },
   "outputs": [
    {
     "name": "stdout",
     "output_type": "stream",
     "text": [
      "users.limit(3)\n",
      "['user_id', 'name', 'num_friends']\n",
      "{'user_id': 0, 'name': 'Hero', 'num_friends': 0}\n",
      "{'user_id': 1, 'name': 'Dunn', 'num_friends': 2}\n",
      "{'user_id': 2, 'name': 'Sue', 'num_friends': 3}\n",
      "\n"
     ]
    }
   ],
   "source": [
    "print(\"users.limit(3)\")\n",
    "print(users.limit(3))\n",
    "print()"
   ]
  },
  {
   "cell_type": "markdown",
   "metadata": {},
   "source": [
    "# SELECT user_id FROM users"
   ]
  },
  {
   "cell_type": "code",
   "execution_count": 10,
   "metadata": {
    "collapsed": false
   },
   "outputs": [
    {
     "name": "stdout",
     "output_type": "stream",
     "text": [
      "users.select(keep_columns=[\"user_id\"])\n",
      "['user_id']\n",
      "{'user_id': 0}\n",
      "{'user_id': 1}\n",
      "{'user_id': 2}\n",
      "{'user_id': 3}\n",
      "{'user_id': 4}\n",
      "{'user_id': 5}\n",
      "{'user_id': 6}\n",
      "{'user_id': 7}\n",
      "{'user_id': 8}\n",
      "{'user_id': 9}\n",
      "{'user_id': 10}\n",
      "\n"
     ]
    }
   ],
   "source": [
    "print(\"users.select(keep_columns=[\\\"user_id\\\"])\")\n",
    "print(users.select(keep_columns=[\"user_id\"]))\n",
    "print()"
   ]
  },
  {
   "cell_type": "markdown",
   "metadata": {},
   "source": [
    "# SELECT user_id FROM users WHERE name = 'Dunn'"
   ]
  },
  {
   "cell_type": "code",
   "execution_count": 6,
   "metadata": {
    "collapsed": false
   },
   "outputs": [
    {
     "name": "stdout",
     "output_type": "stream",
     "text": [
      "where(lambda row: row[\"name\"] == \"Dunn\")\n",
      "['user_id']\n",
      "{'user_id': 1}\n",
      "\n"
     ]
    }
   ],
   "source": [
    "print('where(lambda row: row[\"name\"] == \"Dunn\")')\n",
    "print(users.where(lambda row: row[\"name\"] == \"Dunn\")\n",
    "               .select(keep_columns=[\"user_id\"]))\n",
    "print()"
   ]
  },
  {
   "cell_type": "markdown",
   "metadata": {},
   "source": [
    "# SELECT LENGTH(name) AS name_length FROM users"
   ]
  },
  {
   "cell_type": "code",
   "execution_count": 9,
   "metadata": {
    "collapsed": false
   },
   "outputs": [
    {
     "name": "stdout",
     "output_type": "stream",
     "text": [
      "with name_length:\n",
      "['name_length']\n",
      "{'name_length': 4}\n",
      "{'name_length': 4}\n",
      "{'name_length': 3}\n",
      "{'name_length': 3}\n",
      "{'name_length': 4}\n",
      "{'name_length': 5}\n",
      "{'name_length': 5}\n",
      "{'name_length': 5}\n",
      "{'name_length': 4}\n",
      "{'name_length': 5}\n",
      "{'name_length': 3}\n",
      "\n"
     ]
    }
   ],
   "source": [
    "def name_len(row): return len(row[\"name\"])\n",
    "\n",
    "print('with name_length:')\n",
    "print(users.select(keep_columns=[],    #選擇條件函數的欄位  故挖空\n",
    "                       additional_columns = { \"name_length\" : name_len }))\n",
    "print()"
   ]
  },
  {
   "cell_type": "markdown",
   "metadata": {},
   "source": [
    "# GROUP BY(合併)"
   ]
  },
  {
   "cell_type": "code",
   "execution_count": 8,
   "metadata": {
    "collapsed": false
   },
   "outputs": [
    {
     "name": "stdout",
     "output_type": "stream",
     "text": [
      "stats by length\n",
      "['name_len', 'min_user_id', 'num_users']\n",
      "{'min_user_id': 5, 'num_users': 4, 'name_len': 5}\n",
      "{'min_user_id': 2, 'num_users': 3, 'name_len': 3}\n",
      "{'min_user_id': 0, 'num_users': 4, 'name_len': 4}\n",
      "\n"
     ]
    }
   ],
   "source": [
    "def min_user_id(rows): return min(row[\"user_id\"] for row in rows)\n",
    "\n",
    "stats_by_length = users \\\n",
    "        .select(additional_columns={\"name_len\" : name_len}) \\\n",
    "        .group_by(group_by_columns=[\"name_len\"],\n",
    "                  aggregates={ \"min_user_id\" : min_user_id,\n",
    "                               \"num_users\" : len })\n",
    "\n",
    "print(\"stats by length\")\n",
    "print(stats_by_length)\n",
    "print()"
   ]
  },
  {
   "cell_type": "code",
   "execution_count": 14,
   "metadata": {
    "collapsed": false
   },
   "outputs": [
    {
     "name": "stdout",
     "output_type": "stream",
     "text": [
      "avg friends by letter\n",
      "['first_letter', 'avg_num_friends']\n",
      "{'avg_num_friends': 2.5, 'first_letter': 'K'}\n",
      "{'avg_num_friends': 3.0, 'first_letter': 'T'}\n",
      "{'avg_num_friends': 2.5, 'first_letter': 'C'}\n",
      "{'avg_num_friends': 1.5, 'first_letter': 'H'}\n",
      "{'avg_num_friends': 2.0, 'first_letter': 'D'}\n",
      "{'avg_num_friends': 3.0, 'first_letter': 'S'}\n",
      "\n"
     ]
    }
   ],
   "source": [
    "def first_letter_of_name(row):\n",
    "        return row[\"name\"][0] if row[\"name\"] else \"\"\n",
    "\n",
    "def average_num_friends(rows):\n",
    "        return sum(row[\"num_friends\"] for row in rows) / len(rows)\n",
    "\n",
    "def enough_friends(rows):\n",
    "        return average_num_friends(rows) > 1\n",
    "\n",
    "avg_friends_by_letter = users \\\n",
    "        .select(additional_columns={'first_letter' : first_letter_of_name}) \\\n",
    "        .group_by(group_by_columns=['first_letter'],\n",
    "                  aggregates={ \"avg_num_friends\" : average_num_friends },\n",
    "                  having=enough_friends)\n",
    "\n",
    "print(\"avg friends by letter\")\n",
    "print(avg_friends_by_letter)\n",
    "print()\n"
   ]
  },
  {
   "cell_type": "code",
   "execution_count": 15,
   "metadata": {
    "collapsed": false
   },
   "outputs": [
    {
     "name": "stdout",
     "output_type": "stream",
     "text": [
      "user id sum\n",
      "['user_id_sum']\n",
      "{'user_id_sum': 54}\n",
      "\n"
     ]
    }
   ],
   "source": [
    "def sum_user_ids(rows): return sum(row[\"user_id\"] for row in rows)\n",
    "\n",
    "user_id_sum = users \\\n",
    "        .where(lambda row: row[\"user_id\"] > 1) \\\n",
    "        .group_by(group_by_columns=[],\n",
    "                  aggregates={ \"user_id_sum\" : sum_user_ids })\n",
    "\n",
    "print(\"user id sum\")\n",
    "print(user_id_sum)\n",
    "print()"
   ]
  },
  {
   "cell_type": "markdown",
   "metadata": {},
   "source": [
    "# ORDER BY"
   ]
  },
  {
   "cell_type": "code",
   "execution_count": 16,
   "metadata": {
    "collapsed": false
   },
   "outputs": [
    {
     "name": "stdout",
     "output_type": "stream",
     "text": [
      "friendliest letters\n",
      "['first_letter', 'avg_num_friends']\n",
      "{'avg_num_friends': 3.0, 'first_letter': 'T'}\n",
      "{'avg_num_friends': 3.0, 'first_letter': 'S'}\n",
      "{'avg_num_friends': 2.5, 'first_letter': 'K'}\n",
      "{'avg_num_friends': 2.5, 'first_letter': 'C'}\n",
      "\n"
     ]
    }
   ],
   "source": [
    "friendliest_letters = avg_friends_by_letter \\\n",
    "        .order_by(lambda row: -row[\"avg_num_friends\"]) \\\n",
    "        .limit(4)\n",
    "\n",
    "print(\"friendliest letters\")\n",
    "print(friendliest_letters)\n",
    "print()"
   ]
  },
  {
   "cell_type": "markdown",
   "metadata": {},
   "source": [
    " # JOINs"
   ]
  },
  {
   "cell_type": "code",
   "execution_count": 17,
   "metadata": {
    "collapsed": false
   },
   "outputs": [
    {
     "name": "stdout",
     "output_type": "stream",
     "text": [
      "sql users\n",
      "['user_id', 'name', 'num_friends', 'interest']\n",
      "{'user_id': 0, 'num_friends': 0, 'name': 'Hero', 'interest': 'SQL'}\n",
      "{'user_id': 0, 'num_friends': 0, 'name': 'Hero', 'interest': 'NoSQL'}\n",
      "{'user_id': 1, 'num_friends': 2, 'name': 'Dunn', 'interest': None}\n",
      "{'user_id': 2, 'num_friends': 3, 'name': 'Sue', 'interest': 'SQL'}\n",
      "{'user_id': 2, 'num_friends': 3, 'name': 'Sue', 'interest': 'MySQL'}\n",
      "{'user_id': 3, 'num_friends': 3, 'name': 'Chi', 'interest': None}\n",
      "{'user_id': 4, 'num_friends': 3, 'name': 'Thor', 'interest': None}\n",
      "{'user_id': 5, 'num_friends': 2, 'name': 'Clive', 'interest': None}\n",
      "{'user_id': 6, 'num_friends': 3, 'name': 'Hicks', 'interest': None}\n",
      "{'user_id': 7, 'num_friends': 2, 'name': 'Devin', 'interest': None}\n",
      "{'user_id': 8, 'num_friends': 2, 'name': 'Kate', 'interest': None}\n",
      "{'user_id': 9, 'num_friends': 3, 'name': 'Klein', 'interest': None}\n",
      "{'user_id': 10, 'num_friends': 1, 'name': 'Jen', 'interest': None}\n",
      "\n"
     ]
    }
   ],
   "source": [
    "user_interests = Table([\"user_id\", \"interest\"])\n",
    "user_interests.insert([0, \"SQL\"])\n",
    "user_interests.insert([0, \"NoSQL\"])\n",
    "user_interests.insert([2, \"SQL\"])\n",
    "user_interests.insert([2, \"MySQL\"])\n",
    "\n",
    "sql_users = users \\\n",
    "    .join(user_interests,left_join=True) \\\n",
    "    \n",
    "\n",
    "print(\"sql users\")\n",
    "print(sql_users)\n",
    "print()"
   ]
  },
  {
   "cell_type": "code",
   "execution_count": 18,
   "metadata": {
    "collapsed": false
   },
   "outputs": [
    {
     "name": "stdout",
     "output_type": "stream",
     "text": [
      "user interest counts\n",
      "['user_id', 'num_interests']\n",
      "{'user_id': 10, 'num_interests': 0}\n",
      "{'user_id': 5, 'num_interests': 0}\n",
      "{'user_id': 0, 'num_interests': 2}\n",
      "{'user_id': 6, 'num_interests': 0}\n",
      "{'user_id': 1, 'num_interests': 0}\n",
      "{'user_id': 7, 'num_interests': 0}\n",
      "{'user_id': 2, 'num_interests': 2}\n",
      "{'user_id': 8, 'num_interests': 0}\n",
      "{'user_id': 3, 'num_interests': 0}\n",
      "{'user_id': 9, 'num_interests': 0}\n",
      "{'user_id': 4, 'num_interests': 0}\n"
     ]
    }
   ],
   "source": [
    "def count_interests(rows):\n",
    "        \"\"\"counts how many rows have non-None interests\"\"\"\n",
    "        return len([row for row in rows if row[\"interest\"] is not None])\n",
    "\n",
    "user_interest_counts = users \\\n",
    "        .join(user_interests, left_join=True) \\\n",
    "        .group_by(group_by_columns=[\"user_id\"],\n",
    "                  aggregates={\"num_interests\" : count_interests })\n",
    "\n",
    "print(\"user interest counts\")\n",
    "print(user_interest_counts)"
   ]
  }
 ],
 "metadata": {
  "anaconda-cloud": {},
  "kernelspec": {
   "display_name": "Python [conda root]",
   "language": "python",
   "name": "conda-root-py"
  },
  "language_info": {
   "codemirror_mode": {
    "name": "ipython",
    "version": 3
   },
   "file_extension": ".py",
   "mimetype": "text/x-python",
   "name": "python",
   "nbconvert_exporter": "python",
   "pygments_lexer": "ipython3",
   "version": "3.5.2"
  }
 },
 "nbformat": 4,
 "nbformat_minor": 1
}
