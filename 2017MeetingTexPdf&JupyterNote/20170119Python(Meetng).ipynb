{
 "cells": [
  {
   "cell_type": "code",
   "execution_count": 35,
   "metadata": {
    "collapsed": false
   },
   "outputs": [
    {
     "name": "stdout",
     "output_type": "stream",
     "text": [
      " 磁碟區 C 中的磁碟是 OS_Install\n",
      " 磁碟區序號:  71D0-E9EE\n",
      "\n",
      " C:\\Users\\user 的目錄\n",
      "\n",
      "2017/01/19  上午 01:27    <DIR>          .\n",
      "2017/01/19  上午 01:27    <DIR>          ..\n",
      "2017/01/16  下午 05:40    <DIR>          .anaconda\n",
      "2017/01/18  上午 10:14    <DIR>          .android\n",
      "2017/01/18  上午 10:13    <DIR>          .BigNox\n",
      "2016/10/19  上午 12:42               157 .gitconfig\n",
      "2017/01/19  上午 12:44    <DIR>          .ipynb_checkpoints\n",
      "2017/01/16  下午 05:44    <DIR>          .ipython\n",
      "2017/01/18  下午 11:55    <DIR>          .jupyter\n",
      "2017/01/19  上午 12:38    <DIR>          .matplotlib\n",
      "2016/11/13  上午 10:53    <DIR>          .MemuHyperv\n",
      "2016/07/23  下午 03:03    <DIR>          .oracle_jre_usage\n",
      "2017/01/15  下午 02:12    <DIR>          .spss\n",
      "2017/01/18  下午 11:00    <DIR>          .spyder-py3\n",
      "2017/01/19  上午 01:27            25,956 20170119Meetng.ipynb\n",
      "2014/10/12  下午 09:16                 0 agent.log\n",
      "2017/01/19  上午 12:44    <DIR>          Anaconda3\n",
      "2017/01/11  下午 03:28    <DIR>          Contacts\n",
      "2017/01/19  上午 12:52    <DIR>          Desktop\n",
      "2017/01/17  下午 04:16    <DIR>          Documents\n",
      "2017/01/18  下午 11:17    <DIR>          Downloads\n",
      "2017/01/18  上午 09:48    <DIR>          Dropbox\n",
      "2017/01/11  下午 03:28    <DIR>          Favorites\n",
      "2017/01/16  下午 09:46            11,165 gsview64.ini\n",
      "2017/01/18  上午 09:47    <DIR>          iCloudDrive\n",
      "2017/01/11  下午 03:28    <DIR>          Links\n",
      "2017/01/11  下午 03:28    <DIR>          Music\n",
      "2016/08/10  下午 10:24    <DIR>          Nox_share\n",
      "2016/07/19  下午 08:47    <DIR>          OneDrive\n",
      "2017/01/11  下午 03:28    <DIR>          Pictures\n",
      "2014/01/29  上午 02:11    <DIR>          Roaming\n",
      "2017/01/11  下午 03:28    <DIR>          Saved Games\n",
      "2017/01/11  下午 03:28    <DIR>          Searches\n",
      "2017/01/18  上午 09:47    <DIR>          SkyDrive\n",
      "2015/04/03  下午 08:29    <DIR>          Tracing\n",
      "2017/01/16  下午 05:46               598 Untitled.ipynb\n",
      "2017/01/16  下午 05:51                 0 untitled.txt\n",
      "2017/01/16  下午 05:51                72 Untitled1.ipynb\n",
      "2017/01/16  下午 10:15             2,269 Untitled2.ipynb\n",
      "2017/01/16  下午 10:29               622 Untitled3.ipynb\n",
      "2017/01/18  下午 11:40                72 Untitled4.ipynb\n",
      "2017/01/19  上午 12:27            47,864 Untitled5.ipynb\n",
      "2017/01/18  下午 11:56                72 Untitled6.ipynb\n",
      "2017/01/19  上午 12:44               598 Untitled8.ipynb\n",
      "2017/01/18  下午 07:52    <DIR>          Videos\n",
      "2017/01/18  下午 07:35               605 vmlog.log\n",
      "2016/08/11  下午 06:52    <DIR>          vmlogs\n",
      "              14 個檔案          90,050 位元組\n",
      "              33 個目錄  15,980,896,256 位元組可用\n"
     ]
    }
   ],
   "source": [
    "ls"
   ]
  },
  {
   "cell_type": "markdown",
   "metadata": {},
   "source": [
    "<h1>建立兩筆備用資料<h1>"
   ]
  },
  {
   "cell_type": "code",
   "execution_count": 1,
   "metadata": {
    "collapsed": true
   },
   "outputs": [],
   "source": [
    "num_friends = [100, 49, 41, 40, 25, 25, 77 ,98, 87,87 ,99 ,12 ,6,1,1,1,1,55,54,23]\n",
    "daily_minutes = [55, 49, 41, 40, 25, 25, 82 ,3, 87,87 ,99 ,42,6,1,1,4,1,55,4,23]"
   ]
  },
  {
   "cell_type": "code",
   "execution_count": 2,
   "metadata": {
    "collapsed": true
   },
   "outputs": [],
   "source": [
    "from matplotlib import pyplot as plt\n",
    "from collections import Counter\n",
    "from __future__ import division"
   ]
  },
  {
   "cell_type": "code",
   "execution_count": 3,
   "metadata": {
    "collapsed": false
   },
   "outputs": [
    {
     "data": {
      "image/png": "[encoded data removed]",
      "text/plain": [
       "<matplotlib.figure.Figure at 0x1acb12a1b38>"
      ]
     },
     "metadata": {},
     "output_type": "display_data"
    }
   ],
   "source": [
    "friend_counts = Counter(num_friends)\n",
    "xs = range(101) # largest value is 100\n",
    "ys = [friend_counts[x] for x in xs] # height is just # of friends\n",
    "plt.bar(xs, ys)\n",
    "plt.axis([0, 101, 0, 25])\n",
    "plt.title(\"Histogram of Friend Counts\")\n",
    "plt.xlabel(\"# of friends\")\n",
    "plt.ylabel(\"# of people\")\n",
    "plt.show()"
   ]
  },
  {
   "cell_type": "code",
   "execution_count": 12,
   "metadata": {
    "collapsed": false
   },
   "outputs": [
    {
     "data": {
      "text/plain": [
       "20"
      ]
     },
     "execution_count": 12,
     "metadata": {},
     "output_type": "execute_result"
    }
   ],
   "source": [
    "num_points = len(num_friends)\n",
    "num_points"
   ]
  },
  {
   "cell_type": "code",
   "execution_count": 13,
   "metadata": {
    "collapsed": false
   },
   "outputs": [
    {
     "data": {
      "text/plain": [
       "1"
      ]
     },
     "execution_count": 13,
     "metadata": {},
     "output_type": "execute_result"
    }
   ],
   "source": [
    "smallest_value = min(num_friends) # 1\n",
    "smallest_value"
   ]
  },
  {
   "cell_type": "code",
   "execution_count": 14,
   "metadata": {
    "collapsed": false
   },
   "outputs": [
    {
     "data": {
      "text/plain": [
       "100"
      ]
     },
     "execution_count": 14,
     "metadata": {},
     "output_type": "execute_result"
    }
   ],
   "source": [
    "largest_value = max(num_friends) # 100\n",
    "largest_value"
   ]
  },
  {
   "cell_type": "code",
   "execution_count": 15,
   "metadata": {
    "collapsed": false
   },
   "outputs": [
    {
     "data": {
      "text/plain": [
       "[1, 1, 1, 1, 6, 12, 23, 25, 25, 40, 41, 49, 54, 55, 77, 87, 87, 98, 99, 100]"
      ]
     },
     "execution_count": 15,
     "metadata": {},
     "output_type": "execute_result"
    }
   ],
   "source": [
    "sorted_values = sorted(num_friends)\n",
    "sorted_values"
   ]
  },
  {
   "cell_type": "code",
   "execution_count": 16,
   "metadata": {
    "collapsed": false
   },
   "outputs": [
    {
     "data": {
      "text/plain": [
       "99"
      ]
     },
     "execution_count": 16,
     "metadata": {},
     "output_type": "execute_result"
    }
   ],
   "source": [
    "second_largest_value = sorted_values[-2]\n",
    "second_largest_value"
   ]
  },
  {
   "cell_type": "markdown",
   "metadata": {},
   "source": [
    "Central Tendencies\n",
    "\n",
    "Usually, we’ll want some notion of where our data is centered. Most commonly we’ll\n",
    "use the mean (or average), which is just the sum of the data divided by its count:\n"
   ]
  },
  {
   "cell_type": "markdown",
   "metadata": {},
   "source": [
    "<h1>mean function<h1>"
   ]
  },
  {
   "cell_type": "code",
   "execution_count": 17,
   "metadata": {
    "collapsed": false
   },
   "outputs": [
    {
     "data": {
      "text/plain": [
       "44.1"
      ]
     },
     "execution_count": 17,
     "metadata": {},
     "output_type": "execute_result"
    }
   ],
   "source": [
    "def mean(x):\n",
    "    return sum(x) / len(x)\n",
    "\n",
    "mean(num_friends)"
   ]
  },
  {
   "cell_type": "markdown",
   "metadata": {},
   "source": [
    "<h2 style=\"color:red\">median function<h2>"
   ]
  },
  {
   "cell_type": "code",
   "execution_count": 19,
   "metadata": {
    "collapsed": false
   },
   "outputs": [
    {
     "data": {
      "text/plain": [
       "40.5"
      ]
     },
     "execution_count": 19,
     "metadata": {},
     "output_type": "execute_result"
    }
   ],
   "source": [
    "def median(v):\n",
    "#\"\"\"finds the 'middle-most' value of v\"\"\"\n",
    "    n = len(v)\n",
    "    sorted_v = sorted(v)\n",
    "    midpoint = n // 2\n",
    "    if n % 2 == 1:\n",
    "# if odd, return the middle value\n",
    "        return sorted_v[midpoint]\n",
    "    else:\n",
    "# if even, return the average of the middle values\n",
    "        lo = midpoint - 1\n",
    "        hi = midpoint\n",
    "    return (sorted_v[lo] + sorted_v[hi]) / 2\n",
    "median(num_friends) "
   ]
  },
  {
   "cell_type": "markdown",
   "metadata": {},
   "source": [
    "<h3 style=\"color:pink\">quantil function <h3>     "
   ]
  },
  {
   "cell_type": "markdown",
   "metadata": {},
   "source": [
    "<h3 style=\"color:##003399\">quantile function <h3>     "
   ]
  },
  {
   "cell_type": "code",
   "execution_count": 23,
   "metadata": {
    "collapsed": false
   },
   "outputs": [
    {
     "data": {
      "text/plain": [
       "99"
      ]
     },
     "execution_count": 23,
     "metadata": {},
     "output_type": "execute_result"
    }
   ],
   "source": [
    "def quantile(x, p):\n",
    "#\"\"\"returns the pth-percentile value in x\"\"\"\n",
    "    p_index = int(p * len(x))\n",
    "    return sorted(x)[p_index]\n",
    "quantile(num_friends, 0.10) \n",
    "quantile(num_friends, 0.25) \n",
    "quantile(num_friends, 0.75) \n",
    "quantile(num_friends, 0.90) "
   ]
  },
  {
   "cell_type": "markdown",
   "metadata": {},
   "source": [
    "<h3 style=\"color:#006666\">mode function <h3>     "
   ]
  },
  {
   "cell_type": "code",
   "execution_count": 24,
   "metadata": {
    "collapsed": false
   },
   "outputs": [
    {
     "data": {
      "text/plain": [
       "[1]"
      ]
     },
     "execution_count": 24,
     "metadata": {},
     "output_type": "execute_result"
    }
   ],
   "source": [
    "def mode(x):\n",
    "#\"\"\"returns a list, might be more than one mode\"\"\"\n",
    "    counts = Counter(x)\n",
    "    max_count = max(counts.values())\n",
    "    return [x_i \n",
    "            for x_i, count in counts.items()  #counts.iteritems()\n",
    "        if count == max_count]\n",
    "mode(num_friends)"
   ]
  },
  {
   "cell_type": "markdown",
   "metadata": {},
   "source": [
    "<h3 style=\"color:#ffcc33\">range function <h3>     "
   ]
  },
  {
   "cell_type": "code",
   "execution_count": 25,
   "metadata": {
    "collapsed": false
   },
   "outputs": [
    {
     "data": {
      "text/plain": [
       "99"
      ]
     },
     "execution_count": 25,
     "metadata": {},
     "output_type": "execute_result"
    }
   ],
   "source": [
    "def data_range(x):\n",
    "    return max(x) - min(x)\n",
    "data_range(num_friends)"
   ]
  },
  {
   "cell_type": "markdown",
   "metadata": {},
   "source": [
    "<h3 style=\"color:#cc3300\">variance function <h3>     "
   ]
  },
  {
   "cell_type": "code",
   "execution_count": 27,
   "metadata": {
    "collapsed": false
   },
   "outputs": [
    {
     "data": {
      "text/plain": [
       "1324.3052631578946"
      ]
     },
     "execution_count": 27,
     "metadata": {},
     "output_type": "execute_result"
    }
   ],
   "source": [
    "#計算xi-x.bar\n",
    "def de_mean(x):\n",
    "#\"\"\"translate x by subtracting its mean (so the result has mean 0)\"\"\"\n",
    "    x_bar = mean(x)\n",
    "    return [x_i - x_bar for x_i in x]\n",
    "\n",
    "\n",
    "#計算兩點\n",
    "def dot(v, w):\n",
    "#\"\"\"v_1 * w_1 + ... + v_n * w_n\"\"\"\n",
    "    return sum(v_i * w_i\n",
    "               for v_i, w_i in zip(v, w))  #跳到下一個\n",
    "    \n",
    "    \n",
    "def sum_of_squares(v):\n",
    "#\"\"\"v_1 * v_1 + ... + v_n * v_n\"\"\"\n",
    "    return dot(v, v)\n",
    "\n",
    "\n",
    "def variance(x):\n",
    "#\"\"\"assumes x has at least two elements\"\"\"\n",
    "    n = len(x)\n",
    "    deviations = de_mean(x)\n",
    "    return sum_of_squares(deviations) / (n - 1)\n",
    "variance(num_friends)"
   ]
  },
  {
   "cell_type": "markdown",
   "metadata": {},
   "source": [
    "<h3 style=\"color:#990099  \">variance function <h3>     "
   ]
  },
  {
   "cell_type": "code",
   "execution_count": 28,
   "metadata": {
    "collapsed": false
   },
   "outputs": [
    {
     "data": {
      "text/plain": [
       "847.5263157894736"
      ]
     },
     "execution_count": 28,
     "metadata": {},
     "output_type": "execute_result"
    }
   ],
   "source": [
    "\n",
    "def covariance(x, y):\n",
    "    n = len(x)\n",
    "    return dot(de_mean(x), de_mean(y)) / (n - 1)\n",
    "covariance(num_friends, daily_minutes)"
   ]
  },
  {
   "cell_type": "markdown",
   "metadata": {},
   "source": [
    "<h3 style=\"color:#cc0000  \">standard_deviation function <h3>     "
   ]
  },
  {
   "cell_type": "code",
   "execution_count": 32,
   "metadata": {
    "collapsed": false
   },
   "outputs": [
    {
     "data": {
      "text/plain": [
       "36.39100525071951"
      ]
     },
     "execution_count": 32,
     "metadata": {},
     "output_type": "execute_result"
    }
   ],
   "source": [
    "import math\n",
    "\n",
    "\n",
    "def standard_deviation(x):\n",
    "    return math.sqrt(variance(x))\n",
    "standard_deviation(num_friends)"
   ]
  },
  {
   "cell_type": "markdown",
   "metadata": {},
   "source": [
    "<h3 style=\"color:#3366cc\">standard_deviation function <h3>   "
   ]
  },
  {
   "cell_type": "code",
   "execution_count": 33,
   "metadata": {
    "collapsed": false
   },
   "outputs": [
    {
     "data": {
      "text/plain": [
       "0.711227347386637"
      ]
     },
     "execution_count": 33,
     "metadata": {},
     "output_type": "execute_result"
    }
   ],
   "source": [
    "def correlation(x, y):\n",
    "    stdev_x = standard_deviation(x)\n",
    "    stdev_y = standard_deviation(y)\n",
    "    if stdev_x > 0 and stdev_y > 0:\n",
    "        return covariance(x, y) / stdev_x / stdev_y\n",
    "    else:\n",
    "        return 0 # if no variation, correlation is zero\n",
    "correlation(num_friends, daily_minutes)"
   ]
  }
 ],
 "metadata": {
  "anaconda-cloud": {},
  "kernelspec": {
   "display_name": "Python [conda root]",
   "language": "python",
   "name": "conda-root-py"
  },
  "language_info": {
   "codemirror_mode": {
    "name": "ipython",
    "version": 3
   },
   "file_extension": ".py",
   "mimetype": "text/x-python",
   "name": "python",
   "nbconvert_exporter": "python",
   "pygments_lexer": "ipython3",
   "version": "3.5.2"
  }
 },
 "nbformat": 4,
 "nbformat_minor": 1
}
