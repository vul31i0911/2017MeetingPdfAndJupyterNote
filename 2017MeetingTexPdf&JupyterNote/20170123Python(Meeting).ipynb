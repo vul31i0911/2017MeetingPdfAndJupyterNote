{
 "cells": [
  {
   "cell_type": "markdown",
   "metadata": {},
   "source": [
    "# read and write\n",
    "fileobj = open(filename, mode)\n",
    "\n",
    "\n",
    "filename 是文件名稱\n",
    "\n",
    "mode的第一個字母表示操作。\n",
    "\n",
    "r 表示讀。\n",
    "\n",
    "w 表示寫。如果文件不存在則新建，如果存在則複寫。\n",
    "\n",
    "x 表示在文件不存在的情况下新創並寫入。\n",
    "\n",
    "a 表示如果文件存在，在文件末尾追加入內容。\n",
    "\n",
    "\n",
    "mode 的第二個字母是文件類型：\n",
    "\n",
    "t（或者省略）代表文本類型；\n",
    "\n",
    "b 代表二進位文件。\n"
   ]
  },
  {
   "cell_type": "markdown",
   "metadata": {},
   "source": [
    "# TEXT"
   ]
  },
  {
   "cell_type": "code",
   "execution_count": 2,
   "metadata": {
    "collapsed": false
   },
   "outputs": [
    {
     "data": {
      "text/plain": [
       "150"
      ]
     },
     "execution_count": 2,
     "metadata": {},
     "output_type": "execute_result"
    }
   ],
   "source": [
    "poem = '''There was a young lady named Bright,\n",
    "Whose speed was far faster than light;\n",
    "She started one day\n",
    "In a relative way,\n",
    "And returned on the previous night.'''\n",
    "len(poem)"
   ]
  },
  {
   "cell_type": "code",
   "execution_count": 3,
   "metadata": {
    "collapsed": false
   },
   "outputs": [],
   "source": [
    "fout = open('relativity', 'wt')\n",
    "fout.write(poem)\n",
    "\n",
    "fout.close()"
   ]
  },
  {
   "cell_type": "code",
   "execution_count": null,
   "metadata": {
    "collapsed": true
   },
   "outputs": [],
   "source": [
    "fout = open('relativity', 'wt')\n",
    "print(poem, file=fout)\n",
    "fout.close()"
   ]
  },
  {
   "cell_type": "markdown",
   "metadata": {},
   "source": [
    "將relativity 讀取出來存成poem1"
   ]
  },
  {
   "cell_type": "code",
   "execution_count": 4,
   "metadata": {
    "collapsed": false
   },
   "outputs": [
    {
     "data": {
      "text/plain": [
       "150"
      ]
     },
     "execution_count": 4,
     "metadata": {},
     "output_type": "execute_result"
    }
   ],
   "source": [
    "fin = open('relativity', 'rt' )\n",
    "poem1 = fin.read()\n",
    "fin.close()\n",
    "len(poem1)"
   ]
  },
  {
   "cell_type": "markdown",
   "metadata": {},
   "source": [
    "一次讀入100字母，再將其拼回poem2"
   ]
  },
  {
   "cell_type": "code",
   "execution_count": 5,
   "metadata": {
    "collapsed": false
   },
   "outputs": [
    {
     "data": {
      "text/plain": [
       "150"
      ]
     },
     "execution_count": 5,
     "metadata": {},
     "output_type": "execute_result"
    }
   ],
   "source": [
    "poem2 = ''\n",
    "fin = open('relativity', 'rt' )\n",
    "chunk = 100\n",
    "while True:\n",
    "    fragment = fin.read(chunk)\n",
    "    if not fragment:\n",
    "        break\n",
    "    poem2 += fragment\n",
    "\n",
    "fin.close()\n",
    "len(poem2)\n"
   ]
  },
  {
   "cell_type": "markdown",
   "metadata": {},
   "source": [
    "使用遞迴方式讀入"
   ]
  },
  {
   "cell_type": "code",
   "execution_count": 6,
   "metadata": {
    "collapsed": false
   },
   "outputs": [
    {
     "data": {
      "text/plain": [
       "150"
      ]
     },
     "execution_count": 6,
     "metadata": {},
     "output_type": "execute_result"
    }
   ],
   "source": [
    "poem3 = ''\n",
    "fin = open('relativity', 'rt' )\n",
    "for line in fin:\n",
    "    poem3 += line\n",
    "\n",
    "fin.close()\n",
    "len(poem3)"
   ]
  },
  {
   "cell_type": "code",
   "execution_count": 8,
   "metadata": {
    "collapsed": false
   },
   "outputs": [
    {
     "name": "stdout",
     "output_type": "stream",
     "text": [
      "5 lines read\n",
      "There was a young lady named Bright,\n",
      "Whose speed was far faster than light;\n",
      "She started one day\n",
      "In a relative way,\n",
      "And returned on the previous night."
     ]
    }
   ],
   "source": [
    "fin = open('relativity', 'rt' )\n",
    "lines = fin.readlines()\n",
    "fin.close()\n",
    "print(len(lines), 'lines read')\n",
    "\n",
    "for line in lines:\n",
    "    print(line, end='')"
   ]
  },
  {
   "cell_type": "markdown",
   "metadata": {},
   "source": [
    "# Binary"
   ]
  },
  {
   "cell_type": "code",
   "execution_count": 9,
   "metadata": {
    "collapsed": false
   },
   "outputs": [
    {
     "data": {
      "text/plain": [
       "256"
      ]
     },
     "execution_count": 9,
     "metadata": {},
     "output_type": "execute_result"
    }
   ],
   "source": [
    "bdata = bytes(range(0, 256))\n",
    "len(bdata)"
   ]
  },
  {
   "cell_type": "code",
   "execution_count": 13,
   "metadata": {
    "collapsed": true
   },
   "outputs": [],
   "source": [
    "fout = open('bfile', 'wb')\n",
    "fout.write(bdata)\n",
    "fout.close()"
   ]
  },
  {
   "cell_type": "markdown",
   "metadata": {},
   "source": [
    "# CSV\n"
   ]
  },
  {
   "cell_type": "code",
   "execution_count": 30,
   "metadata": {
    "collapsed": true
   },
   "outputs": [],
   "source": [
    "import csv\n",
    "villains = [\n",
    "    ['Doctor', 'No'],['Rosa', 'Klebb'],['Mister', 'Big'],['Auric', 'Goldfinger'],['Ernst', 'Blofeld'],\n",
    "    ]\n",
    "with open('villains', 'wt') as fout: \n",
    "    csvout = csv.writer(fout)\n",
    "    csvout.writerows(villains)"
   ]
  },
  {
   "cell_type": "code",
   "execution_count": 29,
   "metadata": {
    "collapsed": false
   },
   "outputs": [
    {
     "name": "stdout",
     "output_type": "stream",
     "text": [
      "[['Doctor', 'No'], [], ['Rosa', 'Klebb'], [], ['Mister', 'Big'], [], ['Auric', 'Goldfinger'], [], ['Ernst', 'Blofeld'], []]\n"
     ]
    }
   ],
   "source": [
    "import csv\n",
    "with open('villains', 'rt') as fin: \n",
    "    cin = csv.reader(fin)\n",
    "    villains1 = [row for row in cin] \n",
    "\n",
    "print(villains)"
   ]
  },
  {
   "cell_type": "code",
   "execution_count": 4,
   "metadata": {
    "collapsed": false
   },
   "outputs": [
    {
     "name": "stdout",
     "output_type": "stream",
     "text": [
      "[{'first': 'first', 'last': 'last'}, {'first': 'Doctor', 'last': 'No'}, {'first': 'Rosa', 'last': 'Klebb'}, {'first': 'Mister', 'last': 'Big'}, {'first': 'Auric', 'last': 'Goldfinger'}, {'first': 'Ernst', 'last': 'Blofeld'}]\n"
     ]
    }
   ],
   "source": [
    "import csv\n",
    "with open('villains', 'rt') as fin:\n",
    "    cin = csv.DictReader(fin, fieldnames=['first', 'last'])\n",
    "    villains = [row for row in cin]\n",
    "\n",
    "print(villains)\n"
   ]
  },
  {
   "cell_type": "code",
   "execution_count": 5,
   "metadata": {
    "collapsed": false
   },
   "outputs": [
    {
     "name": "stdout",
     "output_type": "stream",
     "text": [
      "[['27', '13', '14', '20', '11', '2', '1'], ['12', '13', '24', '25', '6', '2', '1'], ['14', '20', '15', '16', '7', '2', '1'], ['18', '20', '17', '12', '6', '2', '1'], ['9', '22', '22', '21', '6', '2', '1'], ['18', '15', '17', '25', '9', '2', '1'], ['12', '18', '29', '18', '4', '2', '1'], ['10', '19', '21', '10', '16', '2', '1'], ['8', '23', '23', '19', '9', '2', '1'], ['21', '11', '17', '9', '16', '2', '1'], ['15', '16', '16', '12', '19', '2', '1'], ['9', '20', '29', '14', '7', '2', '1'], ['16', '22', '24', '17', '4', '2', '1'], ['14', '19', '17', '18', '15', '2', '1'], ['13', '26', '23', '17', '5', '2', '1'], ['13', '20', '22', '18', '5', '2', '1'], ['18', '17', '11', '23', '14', '2', '1'], ['15', '24', '15', '8', '15', '2', '1'], ['18', '22', '24', '11', '6', '2', '1'], ['18', '18', '17', '24', '7', '2', '1'], ['9', '16', '27', '18', '9', '2', '1'], ['25', '17', '15', '14', '14', '2', '1'], ['9', '21', '21', '18', '4', '2', '1'], ['28', '17', '19', '12', '7', '2', '1'], ['18', '18', '26', '14', '6', '2', '1'], ['25', '13', '11', '20', '6', '2', '1'], ['6', '16', '22', '23', '15', '2', '1'], ['25', '13', '18', '9', '15', '2', '1'], ['4', '23', '27', '16', '8', '2', '1'], ['17', '7', '19', '22', '12', '2', '1'], ['13', '14', '16', '20', '16', '2', '1'], ['14', '16', '21', '19', '10', '2', '1'], ['17', '12', '22', '19', '12', '2', '1'], ['14', '16', '19', '18', '13', '2', '1'], ['10', '19', '23', '23', '3', '2', '1'], ['8', '21', '16', '20', '10', '1', '1'], ['15', '12', '15', '23', '11', '1', '1'], ['8', '22', '18', '15', '9', '1', '1'], ['9', '17', '29', '20', '10', '1', '1'], ['9', '14', '23', '21', '12', '1', '1'], ['21', '16', '22', '11', '11', '1', '1'], ['12', '18', '19', '18', '8', '1', '1'], ['18', '20', '13', '13', '17', '1', '1'], ['10', '14', '28', '20', '10', '1', '1'], ['15', '11', '22', '25', '9', '1', '1'], ['20', '14', '14', '9', '17', '1', '1'], ['7', '14', '23', '17', '23', '1', '1'], ['22', '17', '11', '15', '11', '1', '1'], ['18', '21', '15', '8', '15', '1', '1'], ['7', '14', '24', '24', '14', '1', '1'], ['13', '17', '19', '24', '8', '1', '1'], ['15', '20', '17', '19', '10', '1', '1'], ['15', '19', '29', '17', '2', '1', '1'], ['7', '21', '21', '25', '8', '1', '1'], ['29', '16', '8', '12', '18', '1', '1'], ['14', '16', '23', '22', '9', '1', '1'], ['15', '19', '12', '15', '14', '1', '1'], ['19', '17', '21', '18', '5', '1', '1'], ['9', '14', '21', '18', '17', '1', '1'], ['25', '6', '19', '11', '25', '1', '1'], ['10', '18', '22', '18', '12', '1', '1'], ['16', '18', '19', '21', '10', '1', '1'], ['12', '14', '21', '27', '9', '1', '1'], ['12', '21', '19', '17', '10', '1', '1'], ['18', '22', '14', '8', '23', '1', '1'], ['15', '12', '15', '19', '17', '1', '1'], ['8', '15', '25', '17', '16', '1', '1'], ['7', '23', '29', '14', '8', '1', '1'], ['15', '16', '14', '18', '15', '1', '1'], ['10', '19', '22', '15', '14', '1', '1'], ['10', '11', '28', '18', '9', '1', '1'], ['20', '10', '14', '27', '13', '1', '1'], ['27', '13', '19', '4', '17', '1', '2'], ['29', '21', '11', '4', '13', '1', '2'], ['16', '13', '9', '16', '22', '1', '2'], ['3', '20', '25', '20', '8', '1', '2'], ['12', '17', '9', '14', '21', '1', '2'], ['19', '27', '12', '6', '7', '2', '2'], ['22', '17', '21', '11', '9', '2', '2'], ['20', '11', '23', '18', '7', '2', '2'], ['15', '21', '21', '14', '8', '2', '2'], ['12', '12', '28', '25', '5', '2', '2'], ['26', '18', '9', '1', '19', '2', '2'], ['26', '22', '16', '5', '14', '1', '2'], ['12', '17', '10', '15', '20', '1', '2'], ['22', '12', '18', '14', '14', '1', '2'], ['19', '20', '17', '15', '11', '1', '2'], ['22', '24', '9', '11', '10', '1', '2'], ['23', '15', '14', '14', '11', '1', '2'], ['9', '19', '18', '21', '6', '1', '2'], ['15', '12', '12', '17', '21', '1', '2'], ['15', '20', '20', '10', '11', '1', '2'], ['16', '19', '19', '16', '7', '1', '2'], ['11', '20', '22', '13', '11', '1', '2'], ['14', '7', '20', '14', '19', '1', '2'], ['13', '11', '26', '9', '22', '1', '2'], ['21', '13', '18', '19', '14', '1', '2'], ['12', '19', '20', '7', '14', '2', '2'], ['22', '22', '14', '13', '4', '2', '2'], ['21', '21', '21', '5', '9', '2', '2'], ['17', '19', '25', '10', '14', '2', '2'], ['14', '18', '12', '12', '17', '2', '2'], ['16', '19', '14', '12', '15', '2', '2'], ['24', '9', '2', '20', '23', '2', '2'], ['21', '18', '18', '8', '8', '2', '2'], ['11', '11', '24', '27', '9', '2', '2'], ['28', '23', '11', '6', '10', '2', '2'], ['13', '19', '24', '19', '4', '2', '2'], ['17', '19', '20', '8', '6', '2', '2'], ['14', '20', '21', '13', '7', '2', '2'], ['31', '10', '6', '7', '21', '2', '2'], ['19', '20', '12', '4', '18', '2', '2'], ['10', '19', '22', '11', '11', '2', '2'], ['10', '22', '26', '9', '10', '2', '2'], ['18', '15', '19', '17', '9', '2', '2'], ['18', '20', '8', '6', '17', '2', '2'], ['13', '19', '24', '17', '12', '2', '2'], ['18', '24', '16', '12', '10', '2', '2'], ['20', '13', '18', '23', '7', '2', '2'], ['16', '21', '19', '12', '13', '2', '2'], ['9', '19', '19', '19', '12', '2', '2'], ['10', '15', '20', '22', '10', '1', '2'], ['13', '22', '14', '12', '9', '1', '2'], ['22', '10', '17', '14', '18', '1', '2'], ['16', '18', '16', '8', '16', '1', '2'], ['10', '11', '26', '17', '10', '1', '2'], ['14', '12', '14', '11', '29', '1', '2'], ['19', '11', '23', '18', '13', '2', '2'], ['27', '19', '22', '7', '9', '2', '2'], ['10', '17', '22', '22', '8', '2', '2']]\n"
     ]
    }
   ],
   "source": [
    "import csv\n",
    "with open('aaa.txt', 'rt') as fin: \n",
    "    cin = csv.reader(fin,delimiter='\\t')\n",
    "    aaa = [row for row in cin] \n",
    "\n",
    "print(aaa)"
   ]
  },
  {
   "cell_type": "code",
   "execution_count": null,
   "metadata": {
    "collapsed": true
   },
   "outputs": [],
   "source": []
  }
 ],
 "metadata": {
  "anaconda-cloud": {},
  "kernelspec": {
   "display_name": "Python [conda root]",
   "language": "python",
   "name": "conda-root-py"
  },
  "language_info": {
   "codemirror_mode": {
    "name": "ipython",
    "version": 3
   },
   "file_extension": ".py",
   "mimetype": "text/x-python",
   "name": "python",
   "nbconvert_exporter": "python",
   "pygments_lexer": "ipython3",
   "version": "3.5.2"
  }
 },
 "nbformat": 4,
 "nbformat_minor": 1
}
